{
 "cells": [
  {
   "cell_type": "code",
   "execution_count": null,
   "metadata": {},
   "outputs": [],
   "source": [
    "from bs4 import BeautifulSoup\n",
    "\n",
    "# 연습용 HTML 코드 작성\n",
    "\n",
    "html = '''\n",
    "<html>\n",
    "    <head>\n",
    "        <title>Python</title>\n",
    "    </head>\n",
    "    \n",
    "    <body>\n",
    "        <h1>About Crawling/Scraping</h1>\n",
    "        <p>Analysing a Web page</p>\n",
    "        <p>Prompt a section you want</p>\n",
    "    </body>\n",
    "</html>\n",
    "'''\n",
    "\n",
    "soup = BeautifulSoup(html, \"lxml\")\n",
    "\n",
    "h1 = soup.ht"
   ]
  }
 ],
 "metadata": {
  "kernelspec": {
   "display_name": "Python 3",
   "language": "python",
   "name": "python3"
  },
  "language_info": {
   "codemirror_mode": {
    "name": "ipython",
    "version": 3
   },
   "file_extension": ".py",
   "mimetype": "text/x-python",
   "name": "python",
   "nbconvert_exporter": "python",
   "pygments_lexer": "ipython3",
   "version": "3.7.5"
  }
 },
 "nbformat": 4,
 "nbformat_minor": 4
}
